{
 "cells": [
  {
   "cell_type": "code",
   "execution_count": 1,
   "id": "f75f9f46",
   "metadata": {
    "_cell_guid": "b1076dfc-b9ad-4769-8c92-a6c4dae69d19",
    "_uuid": "8f2839f25d086af736a60e9eeb907d3b93b6e0e5",
    "execution": {
     "iopub.execute_input": "2024-06-28T20:08:32.854758Z",
     "iopub.status.busy": "2024-06-28T20:08:32.854411Z",
     "iopub.status.idle": "2024-06-28T20:14:50.322118Z",
     "shell.execute_reply": "2024-06-28T20:14:50.319924Z"
    },
    "papermill": {
     "duration": 377.478279,
     "end_time": "2024-06-28T20:14:50.328523",
     "exception": false,
     "start_time": "2024-06-28T20:08:32.850244",
     "status": "completed"
    },
    "tags": []
   },
   "outputs": [
    {
     "name": "stderr",
     "output_type": "stream",
     "text": [
      "2024-06-28 20:08:36.015413: E external/local_xla/xla/stream_executor/cuda/cuda_dnn.cc:9261] Unable to register cuDNN factory: Attempting to register factory for plugin cuDNN when one has already been registered\n",
      "2024-06-28 20:08:36.015568: E external/local_xla/xla/stream_executor/cuda/cuda_fft.cc:607] Unable to register cuFFT factory: Attempting to register factory for plugin cuFFT when one has already been registered\n",
      "2024-06-28 20:08:36.149589: E external/local_xla/xla/stream_executor/cuda/cuda_blas.cc:1515] Unable to register cuBLAS factory: Attempting to register factory for plugin cuBLAS when one has already been registered\n"
     ]
    }
   ],
   "source": [
    "import os\n",
    "import shutil\n",
    "import random\n",
    "import numpy as np\n",
    "from PIL import Image\n",
    "from sklearn.model_selection import train_test_split\n",
    "import tensorflow as tf\n",
    "from tensorflow.keras.models import Model\n",
    "from tensorflow.keras.layers import Input, Conv2D\n",
    "from tensorflow.keras.callbacks import ReduceLROnPlateau\n",
    "from tensorflow.keras.preprocessing.image import img_to_array, load_img\n",
    "\n",
    "def load_images(path, target_shape=(256, 256)):\n",
    "    images = []\n",
    "    try:\n",
    "        for filename in os.listdir(path):\n",
    "            img_path = os.path.join(path, filename)\n",
    "            img = Image.open(img_path)\n",
    "            \n",
    "            if img.mode != 'RGB':\n",
    "                img = img.convert('RGB')\n",
    "            \n",
    "            img = img.resize(target_shape)\n",
    "            img = np.array(img)\n",
    "            if img.shape == target_shape + (3,):  \n",
    "                images.append(img)\n",
    "            else:\n",
    "                print(f\"Ignoring image {filename} due to incorrect shape: {img.shape}\")\n",
    "    except Exception as e:\n",
    "        print(f\"Error loading images from {path}: {str(e)}\")\n",
    "    return images\n",
    "\n",
    "\n",
    "source_base_dir = '/kaggle/input/image-pro/Image_Processing'\n",
    "base_dir = '/kaggle/working/'\n",
    "original_dir = os.path.join(source_base_dir, 'Original')\n",
    "pixelated_dir = os.path.join(source_base_dir, 'Pixelated')\n",
    "train_dir = os.path.join(base_dir, 'train')\n",
    "test_dir = os.path.join(base_dir, 'test')\n",
    "\n",
    "\n",
    "os.makedirs(os.path.join(train_dir, 'Original'), exist_ok=True)\n",
    "os.makedirs(os.path.join(train_dir, 'Pixelated'), exist_ok=True)\n",
    "os.makedirs(os.path.join(test_dir, 'Original'), exist_ok=True)\n",
    "os.makedirs(os.path.join(test_dir, 'Pixelated'), exist_ok=True)\n",
    "\n",
    "def split_data(original_dir, pixelated_dir, train_dir, test_dir, split_ratio):\n",
    "    original_files = os.listdir(original_dir)\n",
    "    pixelated_files = os.listdir(pixelated_dir)\n",
    "    \n",
    "    paired_files = [(file, file) for file in original_files if file in pixelated_files]\n",
    "\n",
    "    random.shuffle(paired_files)\n",
    "    split_index = int(len(paired_files) * split_ratio)\n",
    "    train_files = paired_files[:split_index]\n",
    "    test_files = paired_files[split_index:]\n",
    "\n",
    "    for original_file, pixelated_file in train_files:\n",
    "        shutil.copy(os.path.join(original_dir, original_file), os.path.join(train_dir, 'Original', original_file))\n",
    "        shutil.copy(os.path.join(pixelated_dir, pixelated_file), os.path.join(train_dir, 'Pixelated', pixelated_file))\n",
    "    \n",
    "    for original_file, pixelated_file in test_files:\n",
    "        shutil.copy(os.path.join(original_dir, original_file), os.path.join(test_dir, 'Original', original_file))\n",
    "        shutil.copy(os.path.join(pixelated_dir, pixelated_file), os.path.join(test_dir, 'Pixelated', pixelated_file))\n",
    "\n",
    "\n",
    "split_ratio = 0.8\n",
    "split_data(original_dir, pixelated_dir, train_dir, test_dir, split_ratio)\n",
    "\n",
    "\n",
    "original_images = load_images(os.path.join(train_dir, 'Original'))\n",
    "pixelated_images = load_images(os.path.join(train_dir, 'Pixelated'))\n",
    "\n",
    "\n",
    "original_images = np.array(original_images).astype('float32') / 255.0\n",
    "pixelated_images = np.array(pixelated_images).astype('float32') / 255.0\n",
    "\n",
    "\n",
    "X_train, X_val, y_train, y_val = train_test_split(pixelated_images, original_images, test_size=0.2, random_state=42)\n"
   ]
  },
  {
   "cell_type": "code",
   "execution_count": 2,
   "id": "673c2dfd",
   "metadata": {
    "execution": {
     "iopub.execute_input": "2024-06-28T20:14:50.344167Z",
     "iopub.status.busy": "2024-06-28T20:14:50.340936Z",
     "iopub.status.idle": "2024-06-28T20:14:50.518032Z",
     "shell.execute_reply": "2024-06-28T20:14:50.516733Z"
    },
    "papermill": {
     "duration": 0.185175,
     "end_time": "2024-06-28T20:14:50.520777",
     "exception": false,
     "start_time": "2024-06-28T20:14:50.335602",
     "status": "completed"
    },
    "tags": []
   },
   "outputs": [],
   "source": [
    "def build_deeper_srcnn():\n",
    "    input_img = Input(shape=(None, None, 3))\n",
    "    x = Conv2D(128, (9, 9), activation='relu', padding='same')(input_img)\n",
    "    x = Conv2D(64, (3, 3), activation='relu', padding='same')(x)\n",
    "    x = Conv2D(32, (1, 1), activation='relu', padding='same')(x)\n",
    "    x = Conv2D(3, (5, 5), activation='sigmoid', padding='same')(x)\n",
    "    \n",
    "    model = Model(inputs=input_img, outputs=x)\n",
    "    model.compile(optimizer='adam', loss='mean_squared_error', metrics=['accuracy'])\n",
    "    \n",
    "    return model\n",
    "\n",
    "\n",
    "reduce_lr = ReduceLROnPlateau(monitor='val_loss', factor=0.2, patience=3, min_lr=1e-6)\n",
    "\n",
    "\n",
    "deeper_model = build_deeper_srcnn()"
   ]
  },
  {
   "cell_type": "code",
   "execution_count": 3,
   "id": "42ab9b4b",
   "metadata": {
    "execution": {
     "iopub.execute_input": "2024-06-28T20:14:50.526818Z",
     "iopub.status.busy": "2024-06-28T20:14:50.526470Z",
     "iopub.status.idle": "2024-06-29T06:42:12.624639Z",
     "shell.execute_reply": "2024-06-29T06:42:12.621934Z"
    },
    "papermill": {
     "duration": 37642.104507,
     "end_time": "2024-06-29T06:42:12.627595",
     "exception": false,
     "start_time": "2024-06-28T20:14:50.523088",
     "status": "completed"
    },
    "tags": []
   },
   "outputs": [
    {
     "name": "stdout",
     "output_type": "stream",
     "text": [
      "Epoch 1/20\n",
      "\u001b[1m198/198\u001b[0m \u001b[32m━━━━━━━━━━━━━━━━━━━━\u001b[0m\u001b[37m\u001b[0m \u001b[1m1860s\u001b[0m 9s/step - accuracy: 0.5158 - loss: 0.0734 - val_accuracy: 0.6117 - val_loss: 0.0487 - learning_rate: 0.0010\n",
      "Epoch 2/20\n",
      "\u001b[1m198/198\u001b[0m \u001b[32m━━━━━━━━━━━━━━━━━━━━\u001b[0m\u001b[37m\u001b[0m \u001b[1m1865s\u001b[0m 9s/step - accuracy: 0.5997 - loss: 0.0502 - val_accuracy: 0.6534 - val_loss: 0.0484 - learning_rate: 0.0010\n",
      "Epoch 3/20\n",
      "\u001b[1m198/198\u001b[0m \u001b[32m━━━━━━━━━━━━━━━━━━━━\u001b[0m\u001b[37m\u001b[0m \u001b[1m1892s\u001b[0m 9s/step - accuracy: 0.6268 - loss: 0.0485 - val_accuracy: 0.6389 - val_loss: 0.0495 - learning_rate: 0.0010\n",
      "Epoch 4/20\n",
      "\u001b[1m198/198\u001b[0m \u001b[32m━━━━━━━━━━━━━━━━━━━━\u001b[0m\u001b[37m\u001b[0m \u001b[1m1881s\u001b[0m 10s/step - accuracy: 0.6369 - loss: 0.0484 - val_accuracy: 0.6524 - val_loss: 0.0462 - learning_rate: 0.0010\n",
      "Epoch 5/20\n",
      "\u001b[1m198/198\u001b[0m \u001b[32m━━━━━━━━━━━━━━━━━━━━\u001b[0m\u001b[37m\u001b[0m \u001b[1m1878s\u001b[0m 9s/step - accuracy: 0.6442 - loss: 0.0478 - val_accuracy: 0.6647 - val_loss: 0.0497 - learning_rate: 0.0010\n",
      "Epoch 6/20\n",
      "\u001b[1m198/198\u001b[0m \u001b[32m━━━━━━━━━━━━━━━━━━━━\u001b[0m\u001b[37m\u001b[0m \u001b[1m1882s\u001b[0m 10s/step - accuracy: 0.6382 - loss: 0.0484 - val_accuracy: 0.6440 - val_loss: 0.0464 - learning_rate: 0.0010\n",
      "Epoch 7/20\n",
      "\u001b[1m198/198\u001b[0m \u001b[32m━━━━━━━━━━━━━━━━━━━━\u001b[0m\u001b[37m\u001b[0m \u001b[1m1885s\u001b[0m 10s/step - accuracy: 0.6424 - loss: 0.0468 - val_accuracy: 0.6332 - val_loss: 0.0455 - learning_rate: 0.0010\n",
      "Epoch 8/20\n",
      "\u001b[1m198/198\u001b[0m \u001b[32m━━━━━━━━━━━━━━━━━━━━\u001b[0m\u001b[37m\u001b[0m \u001b[1m1883s\u001b[0m 10s/step - accuracy: 0.6323 - loss: 0.0472 - val_accuracy: 0.5921 - val_loss: 0.0452 - learning_rate: 0.0010\n",
      "Epoch 9/20\n",
      "\u001b[1m198/198\u001b[0m \u001b[32m━━━━━━━━━━━━━━━━━━━━\u001b[0m\u001b[37m\u001b[0m \u001b[1m1887s\u001b[0m 10s/step - accuracy: 0.6232 - loss: 0.0463 - val_accuracy: 0.6625 - val_loss: 0.0451 - learning_rate: 0.0010\n",
      "Epoch 10/20\n",
      "\u001b[1m198/198\u001b[0m \u001b[32m━━━━━━━━━━━━━━━━━━━━\u001b[0m\u001b[37m\u001b[0m \u001b[1m1949s\u001b[0m 10s/step - accuracy: 0.6430 - loss: 0.0467 - val_accuracy: 0.6609 - val_loss: 0.0479 - learning_rate: 0.0010\n",
      "Epoch 11/20\n",
      "\u001b[1m198/198\u001b[0m \u001b[32m━━━━━━━━━━━━━━━━━━━━\u001b[0m\u001b[37m\u001b[0m \u001b[1m1891s\u001b[0m 10s/step - accuracy: 0.6317 - loss: 0.0462 - val_accuracy: 0.6616 - val_loss: 0.0454 - learning_rate: 0.0010\n",
      "Epoch 12/20\n",
      "\u001b[1m198/198\u001b[0m \u001b[32m━━━━━━━━━━━━━━━━━━━━\u001b[0m\u001b[37m\u001b[0m \u001b[1m1880s\u001b[0m 9s/step - accuracy: 0.6561 - loss: 0.0453 - val_accuracy: 0.6561 - val_loss: 0.0448 - learning_rate: 2.0000e-04\n",
      "Epoch 13/20\n",
      "\u001b[1m198/198\u001b[0m \u001b[32m━━━━━━━━━━━━━━━━━━━━\u001b[0m\u001b[37m\u001b[0m \u001b[1m1881s\u001b[0m 9s/step - accuracy: 0.6601 - loss: 0.0458 - val_accuracy: 0.6726 - val_loss: 0.0446 - learning_rate: 2.0000e-04\n",
      "Epoch 14/20\n",
      "\u001b[1m198/198\u001b[0m \u001b[32m━━━━━━━━━━━━━━━━━━━━\u001b[0m\u001b[37m\u001b[0m \u001b[1m1880s\u001b[0m 9s/step - accuracy: 0.6636 - loss: 0.0454 - val_accuracy: 0.6661 - val_loss: 0.0447 - learning_rate: 2.0000e-04\n",
      "Epoch 15/20\n",
      "\u001b[1m198/198\u001b[0m \u001b[32m━━━━━━━━━━━━━━━━━━━━\u001b[0m\u001b[37m\u001b[0m \u001b[1m1873s\u001b[0m 9s/step - accuracy: 0.6636 - loss: 0.0462 - val_accuracy: 0.6468 - val_loss: 0.0448 - learning_rate: 2.0000e-04\n",
      "Epoch 16/20\n",
      "\u001b[1m198/198\u001b[0m \u001b[32m━━━━━━━━━━━━━━━━━━━━\u001b[0m\u001b[37m\u001b[0m \u001b[1m1868s\u001b[0m 9s/step - accuracy: 0.6617 - loss: 0.0448 - val_accuracy: 0.6312 - val_loss: 0.0454 - learning_rate: 2.0000e-04\n",
      "Epoch 17/20\n",
      "\u001b[1m198/198\u001b[0m \u001b[32m━━━━━━━━━━━━━━━━━━━━\u001b[0m\u001b[37m\u001b[0m \u001b[1m1870s\u001b[0m 9s/step - accuracy: 0.6588 - loss: 0.0459 - val_accuracy: 0.6591 - val_loss: 0.0446 - learning_rate: 4.0000e-05\n",
      "Epoch 18/20\n",
      "\u001b[1m198/198\u001b[0m \u001b[32m━━━━━━━━━━━━━━━━━━━━\u001b[0m\u001b[37m\u001b[0m \u001b[1m1874s\u001b[0m 9s/step - accuracy: 0.6659 - loss: 0.0457 - val_accuracy: 0.6678 - val_loss: 0.0446 - learning_rate: 4.0000e-05\n",
      "Epoch 19/20\n",
      "\u001b[1m198/198\u001b[0m \u001b[32m━━━━━━━━━━━━━━━━━━━━\u001b[0m\u001b[37m\u001b[0m \u001b[1m1872s\u001b[0m 9s/step - accuracy: 0.6684 - loss: 0.0446 - val_accuracy: 0.6620 - val_loss: 0.0446 - learning_rate: 4.0000e-05\n",
      "Epoch 20/20\n",
      "\u001b[1m198/198\u001b[0m \u001b[32m━━━━━━━━━━━━━━━━━━━━\u001b[0m\u001b[37m\u001b[0m \u001b[1m1875s\u001b[0m 9s/step - accuracy: 0.6625 - loss: 0.0459 - val_accuracy: 0.6677 - val_loss: 0.0445 - learning_rate: 8.0000e-06\n"
     ]
    }
   ],
   "source": [
    "history = deeper_model.fit(X_train, y_train,\n",
    "                           epochs=20,\n",
    "                           batch_size=16,\n",
    "                           validation_data=(X_val, y_val),\n",
    "                           callbacks=[reduce_lr])"
   ]
  },
  {
   "cell_type": "code",
   "execution_count": 4,
   "id": "b852dd2e",
   "metadata": {
    "execution": {
     "iopub.execute_input": "2024-06-29T06:42:13.167207Z",
     "iopub.status.busy": "2024-06-29T06:42:13.166444Z",
     "iopub.status.idle": "2024-06-29T06:44:13.386274Z",
     "shell.execute_reply": "2024-06-29T06:44:13.385226Z"
    },
    "papermill": {
     "duration": 120.492946,
     "end_time": "2024-06-29T06:44:13.388607",
     "exception": false,
     "start_time": "2024-06-29T06:42:12.895661",
     "status": "completed"
    },
    "tags": []
   },
   "outputs": [
    {
     "name": "stdout",
     "output_type": "stream",
     "text": [
      "\u001b[1m25/25\u001b[0m \u001b[32m━━━━━━━━━━━━━━━━━━━━\u001b[0m\u001b[37m\u001b[0m \u001b[1m117s\u001b[0m 5s/step - accuracy: 0.6665 - loss: 0.0446\n",
      "Validation Loss: 0.04453545808792114, Validation Accuracy: 0.6676664352416992\n"
     ]
    }
   ],
   "source": [
    "loss, accuracy = deeper_model.evaluate(X_val, y_val)\n",
    "print(f\"Validation Loss: {loss}, Validation Accuracy: {accuracy}\")\n",
    "\n",
    "deeper_model.save('/kaggle/working/deeper_srcnn_model.h5')"
   ]
  }
 ],
 "metadata": {
  "kaggle": {
   "accelerator": "none",
   "dataSources": [
    {
     "datasetId": 5203053,
     "sourceId": 8679592,
     "sourceType": "datasetVersion"
    }
   ],
   "dockerImageVersionId": 30732,
   "isGpuEnabled": false,
   "isInternetEnabled": true,
   "language": "python",
   "sourceType": "notebook"
  },
  "kernelspec": {
   "display_name": "Python 3",
   "language": "python",
   "name": "python3"
  },
  "language_info": {
   "codemirror_mode": {
    "name": "ipython",
    "version": 3
   },
   "file_extension": ".py",
   "mimetype": "text/x-python",
   "name": "python",
   "nbconvert_exporter": "python",
   "pygments_lexer": "ipython3",
   "version": "3.10.13"
  },
  "papermill": {
   "default_parameters": {},
   "duration": 38146.470506,
   "end_time": "2024-06-29T06:44:16.763339",
   "environment_variables": {},
   "exception": null,
   "input_path": "__notebook__.ipynb",
   "output_path": "__notebook__.ipynb",
   "parameters": {},
   "start_time": "2024-06-28T20:08:30.292833",
   "version": "2.5.0"
  }
 },
 "nbformat": 4,
 "nbformat_minor": 5
}
